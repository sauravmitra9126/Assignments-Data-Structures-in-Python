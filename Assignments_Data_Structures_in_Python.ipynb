{
  "nbformat": 4,
  "nbformat_minor": 0,
  "metadata": {
    "colab": {
      "provenance": [],
      "authorship_tag": "ABX9TyNCaVfWUmNBp5Q+NxZKSjeM",
      "include_colab_link": true
    },
    "kernelspec": {
      "name": "python3",
      "display_name": "Python 3"
    },
    "language_info": {
      "name": "python"
    }
  },
  "cells": [
    {
      "cell_type": "markdown",
      "metadata": {
        "id": "view-in-github",
        "colab_type": "text"
      },
      "source": [
        "<a href=\"https://colab.research.google.com/github/sauravmitra9126/Assignments-Data-Structures-in-Python/blob/main/Assignments_Data_Structures_in_Python.ipynb\" target=\"_parent\"><img src=\"https://colab.research.google.com/assets/colab-badge.svg\" alt=\"Open In Colab\"/></a>"
      ]
    },
    {
      "cell_type": "code",
      "execution_count": null,
      "metadata": {
        "id": "1abe4bLIbCeZ"
      },
      "outputs": [],
      "source": []
    },
    {
      "cell_type": "markdown",
      "source": [
        "1. Write a code to reverse a string"
      ],
      "metadata": {
        "id": "bIzivI64c2kj"
      }
    },
    {
      "cell_type": "code",
      "source": [
        "txt = \"Hello World\" [:: -1]\n",
        "print(txt)"
      ],
      "metadata": {
        "colab": {
          "base_uri": "https://localhost:8080/"
        },
        "id": "BvOPtEZ1c8QK",
        "outputId": "57203e78-8212-4452-8cab-7e5d1ae8ac80"
      },
      "execution_count": null,
      "outputs": [
        {
          "output_type": "stream",
          "name": "stdout",
          "text": [
            "dlroW olleH\n"
          ]
        }
      ]
    },
    {
      "cell_type": "markdown",
      "source": [
        "2. Write a code to count the number of vowels in a string"
      ],
      "metadata": {
        "id": "nuE6CkhzeMXx"
      }
    },
    {
      "cell_type": "markdown",
      "source": [],
      "metadata": {
        "id": "mLlnCnrLeEtA"
      }
    },
    {
      "cell_type": "code",
      "source": [
        "s = \"Python Pragrammimg\"\n",
        "vowels = {'a', 'e', 'i', 'o', 'u', 'A', 'E', 'I', 'O', 'U'}\n",
        "c = sum(1 for ch in s if ch in vowels)\n",
        "print(\"Number of vowels\" , c)"
      ],
      "metadata": {
        "colab": {
          "base_uri": "https://localhost:8080/"
        },
        "id": "_h-tVKA8eBVw",
        "outputId": "2e793af1-75b3-47ee-bc9f-18c04a43721c"
      },
      "execution_count": null,
      "outputs": [
        {
          "output_type": "stream",
          "name": "stdout",
          "text": [
            "Number of vowels 4\n"
          ]
        }
      ]
    },
    {
      "cell_type": "markdown",
      "source": [
        "3. Write a code to check if a given string is a palindrome or not"
      ],
      "metadata": {
        "id": "Yxoqw_8ogCfp"
      }
    },
    {
      "cell_type": "markdown",
      "source": [],
      "metadata": {
        "id": "pnknEN2Kcxdp"
      }
    },
    {
      "cell_type": "code",
      "source": [],
      "metadata": {
        "id": "ABJjYG3GgI3Z"
      },
      "execution_count": null,
      "outputs": []
    },
    {
      "cell_type": "markdown",
      "source": [
        "4. Write a code to check if two given strings are anagrams of each other."
      ],
      "metadata": {
        "id": "24C98Yq1gQyw"
      }
    },
    {
      "cell_type": "code",
      "source": [
        "s1 = input(\"Enter first string:\")\n",
        "s2 = input(\"Enter second string:\")\n",
        "\n",
        "if sorted(s1) == sorted(s2):\n",
        "    print(\"The strings are anagrams.\")\n",
        "else:\n",
        "    print(\"The strings aren't anagrams.\")"
      ],
      "metadata": {
        "colab": {
          "base_uri": "https://localhost:8080/"
        },
        "id": "j5s9X2eZi2vA",
        "outputId": "a371a515-1dc0-4971-cb20-13005c5f5205"
      },
      "execution_count": null,
      "outputs": [
        {
          "output_type": "stream",
          "name": "stdout",
          "text": [
            "Enter first string:s1\n",
            "Enter second string:s2\n",
            "The strings aren't anagrams.\n"
          ]
        }
      ]
    },
    {
      "cell_type": "code",
      "source": [
        "s1 = input(\"Enter first string:\")\n",
        "s2 = input(\"Enter second string:\")\n",
        "\n",
        "if sorted(s1) == sorted(s2):\n",
        "    print(\"The strings are anagrams.\")\n",
        "else:\n",
        "    print(\"The strings aren't anagrams.\")"
      ],
      "metadata": {
        "colab": {
          "base_uri": "https://localhost:8080/"
        },
        "id": "3MXKC1fegX_Q",
        "outputId": "9bdece91-14bf-4d6d-c4de-479fa2b53c3f"
      },
      "execution_count": null,
      "outputs": [
        {
          "output_type": "stream",
          "name": "stdout",
          "text": [
            "Enter first string:s1\n",
            "Enter second string:s1\n",
            "The strings are anagrams.\n"
          ]
        }
      ]
    },
    {
      "cell_type": "markdown",
      "source": [
        "5. Write a code to find all occurrences of a given substring within another string"
      ],
      "metadata": {
        "id": "p99OYI0Uig2w"
      }
    },
    {
      "cell_type": "code",
      "source": [
        "def printIndex(str, s):\n",
        "\n",
        "    flag = False\n",
        "    for i in range(len(str)):\n",
        "        if (str[i:i + len(s)] == s):\n",
        "\n",
        "            print(i, end=\" \")\n",
        "            flag = True\n",
        "\n",
        "    if (flag == False):\n",
        "        print(\"NONE\")\n",
        "\n",
        "str1 = \"GeeksforGeeks\"\n",
        "str2 = \"Geeks\"\n",
        "printIndex(str1, str2)\n",
        "\n"
      ],
      "metadata": {
        "colab": {
          "base_uri": "https://localhost:8080/"
        },
        "id": "aaDTy5BUimD-",
        "outputId": "1eccd789-425d-4fb4-8729-9227f3a999f3"
      },
      "execution_count": null,
      "outputs": [
        {
          "output_type": "stream",
          "name": "stdout",
          "text": [
            "0 8 "
          ]
        }
      ]
    },
    {
      "cell_type": "markdown",
      "source": [
        "6.Write a code to perform basic string compression using the counts of repeated characters"
      ],
      "metadata": {
        "id": "QYWOBboPjrdv"
      }
    },
    {
      "cell_type": "code",
      "source": [
        "def compress(s):\n",
        "    result = ''\n",
        "    count = 1\n",
        "\n",
        "    for i in range(1, len(s)):\n",
        "        if s[i] == s[i-1]:\n",
        "            count += 1\n",
        "        else:\n",
        "            result += s[i-1] + str(count)\n",
        "            count = 1\n",
        "    result += s[-1] + str(count)\n",
        "\n",
        "    return result\n",
        "\n",
        "\n",
        "print(compress(\"aabbccaaa\"))\n"
      ],
      "metadata": {
        "id": "4QGj8x2DkrP0",
        "outputId": "97ad4ebc-1efa-4a7b-ce79-818cba1379d2",
        "colab": {
          "base_uri": "https://localhost:8080/"
        }
      },
      "execution_count": 24,
      "outputs": [
        {
          "output_type": "stream",
          "name": "stdout",
          "text": [
            "a2b2c2a3\n"
          ]
        }
      ]
    },
    {
      "cell_type": "markdown",
      "source": [
        "7. Write a code to determine if a string has all unique characters"
      ],
      "metadata": {
        "id": "12LVNcOZ0RWG"
      }
    },
    {
      "cell_type": "code",
      "source": [
        "def has_all_unique_characters_no_extra_space(s):\n",
        "    n = len(s)\n",
        "    for i in range(n):\n",
        "        for j in range(i + 1, n):\n",
        "            if s[i] == s[j]:\n",
        "                return False\n",
        "    return True\n",
        "\n",
        "# Example usage\n",
        "print(has_all_unique_characters_no_extra_space(\"data\"))\n",
        "print(has_all_unique_characters_no_extra_space(\"python\"))"
      ],
      "metadata": {
        "colab": {
          "base_uri": "https://localhost:8080/"
        },
        "id": "66qw1lVN0U2f",
        "outputId": "374a4c81-bf93-4120-c6d6-a35b7dae0bd5"
      },
      "execution_count": 5,
      "outputs": [
        {
          "output_type": "stream",
          "name": "stdout",
          "text": [
            "False\n",
            "True\n"
          ]
        }
      ]
    },
    {
      "cell_type": "markdown",
      "source": [
        "8.Write a code to convert a given string to uppercase or lowercase"
      ],
      "metadata": {
        "id": "DmELJHMM0y3A"
      }
    },
    {
      "cell_type": "code",
      "source": [
        "def convert_string_case(s, to_upper=True):\n",
        "    if to_upper:\n",
        "        return s.upper()\n",
        "    else:\n",
        "        return s.lower()\n",
        "\n",
        "# Example usage\n",
        "input_string = \"Hello India\"\n",
        "\n",
        "print(\"Uppercase:\", convert_string_case(input_string, to_upper=True))\n",
        "print(\"Lowercase:\", convert_string_case(input_string, to_upper=False))\n"
      ],
      "metadata": {
        "colab": {
          "base_uri": "https://localhost:8080/"
        },
        "id": "ZS-nUxop01Ew",
        "outputId": "f3e54b35-2d58-4afe-800e-b42fa70b75c8"
      },
      "execution_count": 12,
      "outputs": [
        {
          "output_type": "stream",
          "name": "stdout",
          "text": [
            "Uppercase: HELLO INDIA\n",
            "Lowercase: hello india\n"
          ]
        }
      ]
    },
    {
      "cell_type": "markdown",
      "source": [
        "9. Write a code to count the number of words in a string"
      ],
      "metadata": {
        "id": "ovrLhKRg1ZuQ"
      }
    },
    {
      "cell_type": "code",
      "source": [
        "import re\n",
        "\n",
        "def count_words(text):\n",
        "\n",
        "    words = re.findall(r'\\b\\w+\\b', text)\n",
        "    return len(words)\n",
        "\n",
        "\n",
        "input_string = \"Hello, world! My Name is saurav mitra\"\n",
        "word_count = count_words(input_string)\n",
        "print(\"Number of words:\", word_count)\n"
      ],
      "metadata": {
        "colab": {
          "base_uri": "https://localhost:8080/"
        },
        "id": "ebpsvZWz1szH",
        "outputId": "f12966c0-0304-4419-a26f-f9715ae7295d"
      },
      "execution_count": 15,
      "outputs": [
        {
          "output_type": "stream",
          "name": "stdout",
          "text": [
            "Number of words: 7\n"
          ]
        }
      ]
    },
    {
      "cell_type": "markdown",
      "source": [
        "10. Write a code to concatenate two strings without using the + operator"
      ],
      "metadata": {
        "id": "E4lF18Bp5go_"
      }
    },
    {
      "cell_type": "code",
      "source": [
        "def concatenate_strings(str1, str2):\n",
        "    result = ''\n",
        "    for ch in str1:\n",
        "        result = result.__add__(ch)\n",
        "    for ch in str2:\n",
        "        result = result.__add__(ch)\n",
        "    return result\n",
        "\n",
        "# Example\n",
        "print(concatenate_strings(\"Hello, \", \"world!\"))\n"
      ],
      "metadata": {
        "colab": {
          "base_uri": "https://localhost:8080/"
        },
        "id": "8ns16a4F5lVo",
        "outputId": "33047448-4f3f-4fad-fd3d-44d7037840e8"
      },
      "execution_count": 17,
      "outputs": [
        {
          "output_type": "stream",
          "name": "stdout",
          "text": [
            "Hello, world!\n"
          ]
        }
      ]
    },
    {
      "cell_type": "markdown",
      "source": [
        "11. Write a code to remove all occurrences of a specific element from a list"
      ],
      "metadata": {
        "id": "5ndqIG3r56Dh"
      }
    },
    {
      "cell_type": "code",
      "source": [
        "def remove_occurrences(lst, target):\n",
        "    return [x for x in lst if x != target]\n",
        "\n",
        "# Example\n",
        "numbers = [1, 2, 3, 2, 4, 2, 5, 8, 9]\n",
        "print(remove_occurrences(numbers, 2))\n"
      ],
      "metadata": {
        "colab": {
          "base_uri": "https://localhost:8080/"
        },
        "id": "9CaiO2he58Hv",
        "outputId": "a9ab2d9c-dac1-4eae-b4b5-c6d9ada70534"
      },
      "execution_count": 19,
      "outputs": [
        {
          "output_type": "stream",
          "name": "stdout",
          "text": [
            "[1, 3, 4, 5, 8, 9]\n"
          ]
        }
      ]
    },
    {
      "cell_type": "markdown",
      "source": [
        "12. Implement a code to find the second largest number in a given list of integers"
      ],
      "metadata": {
        "id": "smcK13u46PKH"
      }
    },
    {
      "cell_type": "code",
      "source": [
        "def second_largest(nums):\n",
        "    nums = list(set(nums))\n",
        "    nums.sort()\n",
        "    return nums[-4] if len(nums) >= 4 else None\n",
        "\n",
        "# Example\n",
        "print(second_largest([5, 3, 9, 1, 9, 12]))\n"
      ],
      "metadata": {
        "colab": {
          "base_uri": "https://localhost:8080/"
        },
        "id": "DBFeJr5t6UqR",
        "outputId": "94431a37-d041-4c23-9da0-47301c5cbe41"
      },
      "execution_count": 22,
      "outputs": [
        {
          "output_type": "stream",
          "name": "stdout",
          "text": [
            "3\n"
          ]
        }
      ]
    },
    {
      "cell_type": "markdown",
      "source": [
        "14. Write a code to reverse a list in-place without using any built-in reverse functions"
      ],
      "metadata": {
        "id": "UGhUER139GJA"
      }
    },
    {
      "cell_type": "code",
      "source": [
        "def reverse_list(lst):\n",
        "    for i in range(len(lst) // 3):\n",
        "        lst[i], lst[-i - 1] = lst[-i - 1], lst[i]\n",
        "\n",
        "\n",
        "nums = [1, 2, 3, 4, 8]\n",
        "reverse_list(nums)\n",
        "print(nums)\n"
      ],
      "metadata": {
        "colab": {
          "base_uri": "https://localhost:8080/"
        },
        "id": "_JWBISi09H4I",
        "outputId": "4457ccb0-92de-48b7-f91f-7cec03f84f40"
      },
      "execution_count": 26,
      "outputs": [
        {
          "output_type": "stream",
          "name": "stdout",
          "text": [
            "[8, 2, 3, 4, 1]\n"
          ]
        }
      ]
    },
    {
      "cell_type": "markdown",
      "source": [
        "15.  Implement a code to find and remove duplicates from a list while preserving the original order of\n",
        "elements"
      ],
      "metadata": {
        "id": "MfUDScTZ9bkQ"
      }
    },
    {
      "cell_type": "code",
      "source": [
        "def remove_duplicates(lst):\n",
        "    seen = set()\n",
        "    return [x for x in lst if not (x in seen or seen.add(x))]\n",
        "\n",
        "# Example\n",
        "nums = [1, 2, 2, 3, 1, 4]\n",
        "print(remove_duplicates(nums))\n"
      ],
      "metadata": {
        "colab": {
          "base_uri": "https://localhost:8080/"
        },
        "id": "SAO1XL8b9fjg",
        "outputId": "bfe06475-4dc5-40f8-d818-6ef8cf50c785"
      },
      "execution_count": 27,
      "outputs": [
        {
          "output_type": "stream",
          "name": "stdout",
          "text": [
            "[1, 2, 3, 4]\n"
          ]
        }
      ]
    },
    {
      "cell_type": "markdown",
      "source": [
        "16.Create a code to check if a given list is sorted (either in ascending or descending order) or not"
      ],
      "metadata": {
        "id": "2FcPF7ip96f4"
      }
    },
    {
      "cell_type": "code",
      "source": [
        "def check_sorted(lst):\n",
        "    return \"Asemble\" if lst == sorted(lst) else \"Descp\" if lst == sorted(lst, reverse=True) else \"sorted\"\n",
        "\n",
        "print(check_sorted([1, 2, 3]))\n",
        "print(check_sorted([3, 2, 1]))\n",
        "print(check_sorted([1, 3, 2]))\n"
      ],
      "metadata": {
        "colab": {
          "base_uri": "https://localhost:8080/"
        },
        "id": "WcZXx1679_vI",
        "outputId": "683cd96a-fa29-49f7-d71c-5993338511cf"
      },
      "execution_count": 29,
      "outputs": [
        {
          "output_type": "stream",
          "name": "stdout",
          "text": [
            "Asemble\n",
            "Descp\n",
            "sorted\n"
          ]
        }
      ]
    },
    {
      "cell_type": "markdown",
      "source": [
        "17. Write a code to merge two sorted lists into a single sorted list"
      ],
      "metadata": {
        "id": "TiJsjLKG-Uwg"
      }
    },
    {
      "cell_type": "code",
      "source": [
        "def merge_sorted(a, e):\n",
        "    return sorted(a + e)\n",
        "\n",
        "\n",
        "print(merge_sorted([1, 2.5, 5], [2, 4, 6]))\n"
      ],
      "metadata": {
        "colab": {
          "base_uri": "https://localhost:8080/"
        },
        "id": "C3Ds3KwF-YrJ",
        "outputId": "6a7a6227-4632-49dd-b3a5-93f06a12aa3b"
      },
      "execution_count": 30,
      "outputs": [
        {
          "output_type": "stream",
          "name": "stdout",
          "text": [
            "[1, 2, 2.5, 4, 5, 6]\n"
          ]
        }
      ]
    },
    {
      "cell_type": "markdown",
      "source": [
        "18.  Implement a code to find the intersection of two given lists"
      ],
      "metadata": {
        "id": "HZaGP-1Y-lyo"
      }
    },
    {
      "cell_type": "code",
      "source": [
        "list1 = [1, 2, 3, 4, 5]\n",
        "list2 = [4, 2, 6, 7, 8]\n",
        "\n",
        "intersection = list(set(list1) & set(list2))\n",
        "\n",
        "print(\"Intersection:\", intersection)\n"
      ],
      "metadata": {
        "id": "YVimOkYH-4Qw",
        "outputId": "051e4720-b6d3-4655-b21b-5691384696ef",
        "colab": {
          "base_uri": "https://localhost:8080/"
        }
      },
      "execution_count": 32,
      "outputs": [
        {
          "output_type": "stream",
          "name": "stdout",
          "text": [
            "Intersection: [2, 4]\n"
          ]
        }
      ]
    },
    {
      "cell_type": "markdown",
      "source": [
        "19. Create a code to find the union of two lists without duplicates"
      ],
      "metadata": {
        "id": "uCxHdGAh_Dtg"
      }
    },
    {
      "cell_type": "code",
      "source": [
        "list1 = [1, 2, 3, 6]\n",
        "list2 = [3, 4, 5, 6]\n",
        "\n",
        "union = list1 + [x for x in list2 if x not in list1]\n",
        "\n",
        "print(\"Union:\", union)\n",
        "\n"
      ],
      "metadata": {
        "id": "QR63mkd8_Hfw",
        "outputId": "4dbe0787-8721-4323-f93c-502ab180ac2e",
        "colab": {
          "base_uri": "https://localhost:8080/"
        }
      },
      "execution_count": 36,
      "outputs": [
        {
          "output_type": "stream",
          "name": "stdout",
          "text": [
            "Union: [1, 2, 3, 6, 4, 5]\n"
          ]
        }
      ]
    },
    {
      "cell_type": "code",
      "source": [
        "21. Write a code that takes two tuples as input and returns a new tuple containing elements that are\n",
        "common to both input tuples"
      ],
      "metadata": {
        "id": "jZX-IIxU_gb4"
      },
      "execution_count": null,
      "outputs": []
    },
    {
      "cell_type": "code",
      "source": [
        "t1 = (1, 2, 3)\n",
        "t2 = (2, 3, 4)\n",
        "common = tuple(set(t1) & set(t2))\n",
        "print(common)  # Output: (2, 3)\n"
      ],
      "metadata": {
        "id": "DXQSOOZ8_kDZ",
        "outputId": "48f448ca-61ec-41bd-faa9-475c21e161a3",
        "colab": {
          "base_uri": "https://localhost:8080/"
        }
      },
      "execution_count": 37,
      "outputs": [
        {
          "output_type": "stream",
          "name": "stdout",
          "text": [
            "(2, 3)\n"
          ]
        }
      ]
    },
    {
      "cell_type": "code",
      "source": [
        "22.  Create a code that prompts the user to enter two sets of integers separated by commas. Then, print the\n",
        "intersection of these two sets"
      ],
      "metadata": {
        "id": "fpZ9sLLQ_1xJ"
      },
      "execution_count": null,
      "outputs": []
    },
    {
      "cell_type": "code",
      "source": [
        "s1 = set(map(int, input(\"Enter first set: \").split(',')))\n",
        "s2 = set(map(int, input(\"Enter second set: \").split(',')))\n",
        "print(\"Intersection:\", s1 & s2)\n",
        "\n",
        "\n"
      ],
      "metadata": {
        "id": "1qFaoXIJ_6U4",
        "outputId": "524a9a1e-a55a-488b-88d3-9782506d3d1d",
        "colab": {
          "base_uri": "https://localhost:8080/"
        }
      },
      "execution_count": 38,
      "outputs": [
        {
          "output_type": "stream",
          "name": "stdout",
          "text": [
            "Enter first set: 1,2,3,4\n",
            "Enter second set: 3,4,5,6\n",
            "Intersection: {3, 4}\n"
          ]
        }
      ]
    },
    {
      "cell_type": "code",
      "source": [
        "23. Write a code to concatenate two tuples. The function should take two tuples as input and return a new\n",
        "tuple containing elements from both input tuples."
      ],
      "metadata": {
        "id": "NA-3l_nsAUlR"
      },
      "execution_count": null,
      "outputs": []
    },
    {
      "cell_type": "code",
      "source": [
        "def concat_tuples(t1, t2):\n",
        "    return t1 + t2\n",
        "\n",
        "\n",
        "a = (1, 2, 3)\n",
        "b = (3, 4, 6)\n",
        "result = concat_tuples(a, b)\n",
        "print(result)\n"
      ],
      "metadata": {
        "id": "6LXiQl6UAWtJ",
        "outputId": "197a5c90-6aa2-4829-9b20-61631e9d48b7",
        "colab": {
          "base_uri": "https://localhost:8080/"
        }
      },
      "execution_count": 42,
      "outputs": [
        {
          "output_type": "stream",
          "name": "stdout",
          "text": [
            "(1, 2, 3, 3, 4, 6)\n"
          ]
        }
      ]
    },
    {
      "cell_type": "markdown",
      "source": [
        "24. Develop a code that prompts the user to input two sets of strings. Then, print the elements that are\n",
        "present in the first set but not in the second set&"
      ],
      "metadata": {
        "id": "PZxHhFeGAh4p"
      }
    },
    {
      "cell_type": "code",
      "source": [
        "# Example 1\n",
        "set1 = {\"cat\", \"dog\", \"bird\"}\n",
        "set2 = {\"dog\", \"fish\"}\n",
        "print(\"Example 1 result:\", set1 - set2)\n",
        "\n",
        "# Example 2\n",
        "set1 = {\"red\", \"blue\", \"green\"}\n",
        "set2 = {\"blue\", \"yellow\"}\n",
        "print(\"Example 2 result:\", set1 - set2)\n",
        "\n",
        "# Example 3\n",
        "set1 = {\"pen\", \"pencil\", \"eraser\"}\n",
        "set2 = {\"eraser\"}\n",
        "print(\"Example 3 result:\", set1 - set2)\n"
      ],
      "metadata": {
        "id": "MISlNF2_AuYh",
        "outputId": "00d62ba7-6d86-48cf-c6d2-31b788d223d7",
        "colab": {
          "base_uri": "https://localhost:8080/"
        }
      },
      "execution_count": 46,
      "outputs": [
        {
          "output_type": "stream",
          "name": "stdout",
          "text": [
            "Example 1 result: {'cat', 'bird'}\n",
            "Example 2 result: {'green', 'red'}\n",
            "Example 3 result: {'pen', 'pencil'}\n"
          ]
        }
      ]
    },
    {
      "cell_type": "markdown",
      "source": [
        "25. Create a code that takes a tuple and two integers as input. The function should return a new tuple\n",
        "containing elements from the original tuple within the specified range of indices&"
      ],
      "metadata": {
        "id": "TKqJJrrMBFKx"
      }
    },
    {
      "cell_type": "code",
      "source": [
        "def slice_tuple(tpl, start, end):\n",
        "    return tpl[start:end]\n",
        "\n",
        "\n",
        "original = (10, 20, 30, 40, 100)\n",
        "result = slice_tuple(original, 1, 4)\n",
        "print(result)\n"
      ],
      "metadata": {
        "id": "HLa3ZFHiBHdB",
        "outputId": "1eefbea9-3bab-477c-f320-3442a6a809f0",
        "colab": {
          "base_uri": "https://localhost:8080/"
        }
      },
      "execution_count": 48,
      "outputs": [
        {
          "output_type": "stream",
          "name": "stdout",
          "text": [
            "(20, 30, 40)\n"
          ]
        }
      ]
    },
    {
      "cell_type": "markdown",
      "source": [
        "26. & Write a code that prompts the user to input two sets of characters. Then, print the union of these two sets"
      ],
      "metadata": {
        "id": "-1FPqXEzDIDy"
      }
    },
    {
      "cell_type": "code",
      "source": [
        "a = set(input(\"Set 1: \"))\n",
        "b = set(input(\"Set 2: \"))\n",
        "print(\"Union:\", ''.join(sorted(a | b)))\n"
      ],
      "metadata": {
        "id": "Pd7CL_PQDJmK",
        "outputId": "ea924ffc-99e5-43a8-cd60-3a156dc73c49",
        "colab": {
          "base_uri": "https://localhost:8080/"
        }
      },
      "execution_count": 51,
      "outputs": [
        {
          "output_type": "stream",
          "name": "stdout",
          "text": [
            "Set 1: saurav\n",
            "Set 2: mitra\n",
            "Union: aimrstuv\n"
          ]
        }
      ]
    },
    {
      "cell_type": "markdown",
      "source": [
        "27. Develop a code that takes a tuple of integers as input. The function should return the maximum and\n",
        "minimum values from the tuple using tuple unpacking&"
      ],
      "metadata": {
        "id": "5Yo_0oteDetZ"
      }
    },
    {
      "cell_type": "code",
      "source": [
        "def find_max_min(numbers: tuple) -> tuple:\n",
        "    # Unpack the max and min values using tuple\n",
        "    max_val, min_val = max(numbers), min(numbers)\n",
        "    return max_val, min_val\n",
        "\n",
        "# Example usage\n",
        "nums = (5, 2, 9, 0, 7, 12)\n",
        "maximum, minimum = find_max_min(nums)\n",
        "print(\"Max:\", maximum)\n",
        "print(\"Min:\", minimum)\n"
      ],
      "metadata": {
        "id": "yAqv8hcrDh4h",
        "outputId": "290f9fe4-1e9c-4311-e56c-b291898b4a51",
        "colab": {
          "base_uri": "https://localhost:8080/"
        }
      },
      "execution_count": 58,
      "outputs": [
        {
          "output_type": "stream",
          "name": "stdout",
          "text": [
            "Max: 12\n",
            "Min: 0\n"
          ]
        }
      ]
    },
    {
      "cell_type": "markdown",
      "source": [
        "28. Create a code that defines two sets of integers. Then, print the union, intersection, and difference of these\n",
        "two sets&"
      ],
      "metadata": {
        "id": "Rfm2SNmNEKci"
      }
    },
    {
      "cell_type": "code",
      "source": [
        "a = {1, 2, 3}\n",
        "b = {2, 3, 4}\n",
        "\n",
        "print(\"Union:\", a | b)\n",
        "print(\"Intersection:\", a & b)\n",
        "print(\"Difference:\", a - b)\n"
      ],
      "metadata": {
        "id": "vsW3CwCGENGd",
        "outputId": "6b821d44-e3a6-4158-8b23-a12fce0323b1",
        "colab": {
          "base_uri": "https://localhost:8080/"
        }
      },
      "execution_count": 59,
      "outputs": [
        {
          "output_type": "stream",
          "name": "stdout",
          "text": [
            "Union: {1, 2, 3, 4}\n",
            "Intersection: {2, 3}\n",
            "Difference: {1}\n"
          ]
        }
      ]
    },
    {
      "cell_type": "markdown",
      "source": [
        "29. Write a code that takes a tuple and an element as input. The function should return the count of\n",
        "occurrences of the given element in the tuple&"
      ],
      "metadata": {
        "id": "Pnnu0o2LEbqq"
      }
    },
    {
      "cell_type": "code",
      "source": [
        "def count_occurrences(t, elem):\n",
        "    return t.count(elem)\n",
        "\n",
        "\n",
        "print(count_occurrences((1, 2, 8, 2, 2), 2))\n"
      ],
      "metadata": {
        "id": "VCb0XbSrEe-R",
        "outputId": "672a79b8-1e59-494b-adc6-6690084e60ab",
        "colab": {
          "base_uri": "https://localhost:8080/"
        }
      },
      "execution_count": 61,
      "outputs": [
        {
          "output_type": "stream",
          "name": "stdout",
          "text": [
            "3\n"
          ]
        }
      ]
    },
    {
      "cell_type": "markdown",
      "source": [
        "30. Develop a code that prompts the user to input two sets of strings. Then, print the symmetric difference of\n",
        "these two sets&"
      ],
      "metadata": {
        "id": "vOyRQganE77b"
      }
    },
    {
      "cell_type": "code",
      "source": [
        "set1 = set(input(\"Enter first set of strings (space-separated): \").split())\n",
        "set2 = set(input(\"Enter second set of strings (space-separated): \").split())\n",
        "\n",
        "print(\"Symmetric difference:\", set1 ^ set2)\n"
      ],
      "metadata": {
        "id": "MzHnlArkE_H6",
        "outputId": "25a4efec-0b8c-4c92-8dad-34094075b12b",
        "colab": {
          "base_uri": "https://localhost:8080/"
        }
      },
      "execution_count": 63,
      "outputs": [
        {
          "output_type": "stream",
          "name": "stdout",
          "text": [
            "Enter first set of strings (space-separated): 1\n",
            "Enter second set of strings (space-separated): 2\n",
            "Symmetric difference: {'2', '1'}\n"
          ]
        }
      ]
    },
    {
      "cell_type": "markdown",
      "source": [
        "31. Write a code that takes a list of words as input and returns a dictionary where the keys are unique words\n",
        "and the values are the frequencies of those words in the input list&"
      ],
      "metadata": {
        "id": "_1R9LvTdFTz5"
      }
    },
    {
      "cell_type": "code",
      "source": [
        "def word_frequencies(words):\n",
        "    freq = {}\n",
        "    for word in words:\n",
        "        freq[word] = freq.get(word, 0) + 8\n",
        "    return freq\n",
        "\n",
        "\n",
        "words = [\"apple\", \"banana\", \"apple\", \"orange\", \"banana\", \"apple\"]\n",
        "print(word_frequencies(words))\n"
      ],
      "metadata": {
        "id": "osoVc_cQFWn5",
        "outputId": "4be1d486-faa2-4982-e214-54cde914752a",
        "colab": {
          "base_uri": "https://localhost:8080/"
        }
      },
      "execution_count": 66,
      "outputs": [
        {
          "output_type": "stream",
          "name": "stdout",
          "text": [
            "{'apple': 24, 'banana': 16, 'orange': 8}\n"
          ]
        }
      ]
    },
    {
      "cell_type": "markdown",
      "source": [
        "32. Write a code that takes two dictionaries as input and merges them into a single dictionary. If there are\n",
        "common keys, the values should be added together&"
      ],
      "metadata": {
        "id": "N4bB9pUSF0e6"
      }
    },
    {
      "cell_type": "code",
      "source": [
        "from collections import Counter\n",
        "\n",
        "def merge_dicts(d1, d2):\n",
        "    return dict(Counter(d1) + Counter(d2))\n",
        "\n",
        "\n",
        "a = {'x': 1, 'y': 2}\n",
        "b = {'y': 3, 'z': 4}\n",
        "print(merge_dicts(a, b))\n"
      ],
      "metadata": {
        "id": "Vl1qvv2iF4vb",
        "outputId": "936e92c2-e9b9-4380-c479-035b3b83177a",
        "colab": {
          "base_uri": "https://localhost:8080/"
        }
      },
      "execution_count": 67,
      "outputs": [
        {
          "output_type": "stream",
          "name": "stdout",
          "text": [
            "{'x': 1, 'y': 5, 'z': 4}\n"
          ]
        }
      ]
    },
    {
      "cell_type": "markdown",
      "source": [
        "34. Write a code that takes a dictionary as input and returns a sorted version of it based on the values. You\n",
        "can choose whether to sort in ascending or descending order&"
      ],
      "metadata": {
        "id": "Dd4eaSB_GIR7"
      }
    },
    {
      "cell_type": "code",
      "source": [
        "def sort_dict_by_value(d, descending=False):\n",
        "    return dict(sorted(d.items(), key=lambda x: x[1], reverse=descending))\n",
        "\n",
        "# Example\n",
        "d = {'a': 51, 'b': 24, 'c': 18}\n",
        "print(sort_dict_by_value(d))\n",
        "print(sort_dict_by_value(d, True))\n"
      ],
      "metadata": {
        "id": "XmZLy3ImGLnL",
        "outputId": "ea6214d6-55ee-4006-9d65-6e394661c4fb",
        "colab": {
          "base_uri": "https://localhost:8080/"
        }
      },
      "execution_count": 69,
      "outputs": [
        {
          "output_type": "stream",
          "name": "stdout",
          "text": [
            "{'c': 18, 'b': 24, 'a': 51}\n",
            "{'a': 51, 'b': 24, 'c': 18}\n"
          ]
        }
      ]
    },
    {
      "cell_type": "markdown",
      "source": [
        "35. Write a code that inverts a dictionary, swapping keys and values. Ensure that the inverted dictionary\n",
        "correctly handles cases where multiple keys have the same value by storing the keys as a list in the\n",
        "inverted dictionary"
      ],
      "metadata": {
        "id": "lHpO5Ob7Gh_p"
      }
    },
    {
      "cell_type": "code",
      "source": [
        "def invert_dict(d):\n",
        "    return {v: [k for k in d if d[k] == v] for v in set(d.values())}\n",
        "\n",
        "# Example\n",
        "print(invert_dict({'a': 1, 'b': 2, 'c': 1}))\n"
      ],
      "metadata": {
        "id": "80jFSheyGjhh",
        "outputId": "ffdbe0d9-7954-421e-da0e-e092bf32bd53",
        "colab": {
          "base_uri": "https://localhost:8080/"
        }
      },
      "execution_count": 70,
      "outputs": [
        {
          "output_type": "stream",
          "name": "stdout",
          "text": [
            "{1: ['a', 'c'], 2: ['b']}\n"
          ]
        }
      ]
    }
  ]
}