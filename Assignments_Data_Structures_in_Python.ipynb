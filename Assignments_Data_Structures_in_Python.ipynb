{
  "nbformat": 4,
  "nbformat_minor": 0,
  "metadata": {
    "colab": {
      "provenance": [],
      "authorship_tag": "ABX9TyNEpK/GMkwYAQ9Z1uqMOK7N",
      "include_colab_link": true
    },
    "kernelspec": {
      "name": "python3",
      "display_name": "Python 3"
    },
    "language_info": {
      "name": "python"
    }
  },
  "cells": [
    {
      "cell_type": "markdown",
      "metadata": {
        "id": "view-in-github",
        "colab_type": "text"
      },
      "source": [
        "<a href=\"https://colab.research.google.com/github/sauravmitra9126/Assignments-Data-Structures-in-Python/blob/main/Assignments_Data_Structures_in_Python.ipynb\" target=\"_parent\"><img src=\"https://colab.research.google.com/assets/colab-badge.svg\" alt=\"Open In Colab\"/></a>"
      ]
    },
    {
      "cell_type": "code",
      "execution_count": null,
      "metadata": {
        "id": "1abe4bLIbCeZ"
      },
      "outputs": [],
      "source": []
    },
    {
      "cell_type": "markdown",
      "source": [
        "1. Write a code to reverse a string"
      ],
      "metadata": {
        "id": "bIzivI64c2kj"
      }
    },
    {
      "cell_type": "code",
      "source": [
        "txt = \"Hello World\" [:: -1]\n",
        "print(txt)"
      ],
      "metadata": {
        "colab": {
          "base_uri": "https://localhost:8080/"
        },
        "id": "BvOPtEZ1c8QK",
        "outputId": "57203e78-8212-4452-8cab-7e5d1ae8ac80"
      },
      "execution_count": null,
      "outputs": [
        {
          "output_type": "stream",
          "name": "stdout",
          "text": [
            "dlroW olleH\n"
          ]
        }
      ]
    },
    {
      "cell_type": "markdown",
      "source": [
        "2. Write a code to count the number of vowels in a string"
      ],
      "metadata": {
        "id": "nuE6CkhzeMXx"
      }
    },
    {
      "cell_type": "markdown",
      "source": [],
      "metadata": {
        "id": "mLlnCnrLeEtA"
      }
    },
    {
      "cell_type": "code",
      "source": [
        "s = \"Python Pragrammimg\"\n",
        "vowels = {'a', 'e', 'i', 'o', 'u', 'A', 'E', 'I', 'O', 'U'}\n",
        "c = sum(1 for ch in s if ch in vowels)\n",
        "print(\"Number of vowels\" , c)"
      ],
      "metadata": {
        "colab": {
          "base_uri": "https://localhost:8080/"
        },
        "id": "_h-tVKA8eBVw",
        "outputId": "2e793af1-75b3-47ee-bc9f-18c04a43721c"
      },
      "execution_count": null,
      "outputs": [
        {
          "output_type": "stream",
          "name": "stdout",
          "text": [
            "Number of vowels 4\n"
          ]
        }
      ]
    },
    {
      "cell_type": "markdown",
      "source": [
        "3. Write a code to check if a given string is a palindrome or not"
      ],
      "metadata": {
        "id": "Yxoqw_8ogCfp"
      }
    },
    {
      "cell_type": "markdown",
      "source": [],
      "metadata": {
        "id": "pnknEN2Kcxdp"
      }
    },
    {
      "cell_type": "code",
      "source": [],
      "metadata": {
        "id": "ABJjYG3GgI3Z"
      },
      "execution_count": null,
      "outputs": []
    },
    {
      "cell_type": "markdown",
      "source": [
        "4. Write a code to check if two given strings are anagrams of each other."
      ],
      "metadata": {
        "id": "24C98Yq1gQyw"
      }
    },
    {
      "cell_type": "code",
      "source": [
        "s1 = input(\"Enter first string:\")\n",
        "s2 = input(\"Enter second string:\")\n",
        "\n",
        "if sorted(s1) == sorted(s2):\n",
        "    print(\"The strings are anagrams.\")\n",
        "else:\n",
        "    print(\"The strings aren't anagrams.\")"
      ],
      "metadata": {
        "colab": {
          "base_uri": "https://localhost:8080/"
        },
        "id": "j5s9X2eZi2vA",
        "outputId": "a371a515-1dc0-4971-cb20-13005c5f5205"
      },
      "execution_count": null,
      "outputs": [
        {
          "output_type": "stream",
          "name": "stdout",
          "text": [
            "Enter first string:s1\n",
            "Enter second string:s2\n",
            "The strings aren't anagrams.\n"
          ]
        }
      ]
    },
    {
      "cell_type": "code",
      "source": [
        "s1 = input(\"Enter first string:\")\n",
        "s2 = input(\"Enter second string:\")\n",
        "\n",
        "if sorted(s1) == sorted(s2):\n",
        "    print(\"The strings are anagrams.\")\n",
        "else:\n",
        "    print(\"The strings aren't anagrams.\")"
      ],
      "metadata": {
        "colab": {
          "base_uri": "https://localhost:8080/"
        },
        "id": "3MXKC1fegX_Q",
        "outputId": "9bdece91-14bf-4d6d-c4de-479fa2b53c3f"
      },
      "execution_count": null,
      "outputs": [
        {
          "output_type": "stream",
          "name": "stdout",
          "text": [
            "Enter first string:s1\n",
            "Enter second string:s1\n",
            "The strings are anagrams.\n"
          ]
        }
      ]
    },
    {
      "cell_type": "markdown",
      "source": [
        "5. Write a code to find all occurrences of a given substring within another string"
      ],
      "metadata": {
        "id": "p99OYI0Uig2w"
      }
    },
    {
      "cell_type": "code",
      "source": [
        "def printIndex(str, s):\n",
        "\n",
        "    flag = False\n",
        "    for i in range(len(str)):\n",
        "        if (str[i:i + len(s)] == s):\n",
        "\n",
        "            print(i, end=\" \")\n",
        "            flag = True\n",
        "\n",
        "    if (flag == False):\n",
        "        print(\"NONE\")\n",
        "\n",
        "str1 = \"GeeksforGeeks\"\n",
        "str2 = \"Geeks\"\n",
        "printIndex(str1, str2)\n",
        "\n"
      ],
      "metadata": {
        "colab": {
          "base_uri": "https://localhost:8080/"
        },
        "id": "aaDTy5BUimD-",
        "outputId": "1eccd789-425d-4fb4-8729-9227f3a999f3"
      },
      "execution_count": null,
      "outputs": [
        {
          "output_type": "stream",
          "name": "stdout",
          "text": [
            "0 8 "
          ]
        }
      ]
    },
    {
      "cell_type": "markdown",
      "source": [
        "6.Write a code to perform basic string compression using the counts of repeated characters"
      ],
      "metadata": {
        "id": "QYWOBboPjrdv"
      }
    },
    {
      "cell_type": "code",
      "source": [
        "def compress(s):\n",
        "    result = ''\n",
        "    count = 1\n",
        "\n",
        "    for i in range(1, len(s)):\n",
        "        if s[i] == s[i-1]:\n",
        "            count += 1\n",
        "        else:\n",
        "            result += s[i-1] + str(count)\n",
        "            count = 1\n",
        "    result += s[-1] + str(count)\n",
        "\n",
        "    return result\n",
        "\n",
        "\n",
        "print(compress(\"aabbccaaa\"))\n"
      ],
      "metadata": {
        "id": "4QGj8x2DkrP0",
        "outputId": "97ad4ebc-1efa-4a7b-ce79-818cba1379d2",
        "colab": {
          "base_uri": "https://localhost:8080/"
        }
      },
      "execution_count": 24,
      "outputs": [
        {
          "output_type": "stream",
          "name": "stdout",
          "text": [
            "a2b2c2a3\n"
          ]
        }
      ]
    },
    {
      "cell_type": "markdown",
      "source": [
        "7. Write a code to determine if a string has all unique characters"
      ],
      "metadata": {
        "id": "12LVNcOZ0RWG"
      }
    },
    {
      "cell_type": "code",
      "source": [
        "def has_all_unique_characters_no_extra_space(s):\n",
        "    n = len(s)\n",
        "    for i in range(n):\n",
        "        for j in range(i + 1, n):\n",
        "            if s[i] == s[j]:\n",
        "                return False\n",
        "    return True\n",
        "\n",
        "# Example usage\n",
        "print(has_all_unique_characters_no_extra_space(\"data\"))\n",
        "print(has_all_unique_characters_no_extra_space(\"python\"))"
      ],
      "metadata": {
        "id": "66qw1lVN0U2f",
        "outputId": "374a4c81-bf93-4120-c6d6-a35b7dae0bd5",
        "colab": {
          "base_uri": "https://localhost:8080/"
        }
      },
      "execution_count": 5,
      "outputs": [
        {
          "output_type": "stream",
          "name": "stdout",
          "text": [
            "False\n",
            "True\n"
          ]
        }
      ]
    },
    {
      "cell_type": "markdown",
      "source": [
        "8.Write a code to convert a given string to uppercase or lowercase"
      ],
      "metadata": {
        "id": "DmELJHMM0y3A"
      }
    },
    {
      "cell_type": "code",
      "source": [
        "def convert_string_case(s, to_upper=True):\n",
        "    if to_upper:\n",
        "        return s.upper()\n",
        "    else:\n",
        "        return s.lower()\n",
        "\n",
        "# Example usage\n",
        "input_string = \"Hello India\"\n",
        "\n",
        "print(\"Uppercase:\", convert_string_case(input_string, to_upper=True))\n",
        "print(\"Lowercase:\", convert_string_case(input_string, to_upper=False))\n"
      ],
      "metadata": {
        "id": "ZS-nUxop01Ew",
        "outputId": "f3e54b35-2d58-4afe-800e-b42fa70b75c8",
        "colab": {
          "base_uri": "https://localhost:8080/"
        }
      },
      "execution_count": 12,
      "outputs": [
        {
          "output_type": "stream",
          "name": "stdout",
          "text": [
            "Uppercase: HELLO INDIA\n",
            "Lowercase: hello india\n"
          ]
        }
      ]
    },
    {
      "cell_type": "markdown",
      "source": [
        "9. Write a code to count the number of words in a string"
      ],
      "metadata": {
        "id": "ovrLhKRg1ZuQ"
      }
    },
    {
      "cell_type": "code",
      "source": [
        "import re\n",
        "\n",
        "def count_words(text):\n",
        "\n",
        "    words = re.findall(r'\\b\\w+\\b', text)\n",
        "    return len(words)\n",
        "\n",
        "\n",
        "input_string = \"Hello, world! My Name is saurav mitra\"\n",
        "word_count = count_words(input_string)\n",
        "print(\"Number of words:\", word_count)\n"
      ],
      "metadata": {
        "id": "ebpsvZWz1szH",
        "outputId": "f12966c0-0304-4419-a26f-f9715ae7295d",
        "colab": {
          "base_uri": "https://localhost:8080/"
        }
      },
      "execution_count": 15,
      "outputs": [
        {
          "output_type": "stream",
          "name": "stdout",
          "text": [
            "Number of words: 7\n"
          ]
        }
      ]
    },
    {
      "cell_type": "markdown",
      "source": [
        "10. Write a code to concatenate two strings without using the + operator"
      ],
      "metadata": {
        "id": "E4lF18Bp5go_"
      }
    },
    {
      "cell_type": "code",
      "source": [
        "def concatenate_strings(str1, str2):\n",
        "    result = ''\n",
        "    for ch in str1:\n",
        "        result = result.__add__(ch)\n",
        "    for ch in str2:\n",
        "        result = result.__add__(ch)\n",
        "    return result\n",
        "\n",
        "# Example\n",
        "print(concatenate_strings(\"Hello, \", \"world!\"))\n"
      ],
      "metadata": {
        "id": "8ns16a4F5lVo",
        "outputId": "33047448-4f3f-4fad-fd3d-44d7037840e8",
        "colab": {
          "base_uri": "https://localhost:8080/"
        }
      },
      "execution_count": 17,
      "outputs": [
        {
          "output_type": "stream",
          "name": "stdout",
          "text": [
            "Hello, world!\n"
          ]
        }
      ]
    },
    {
      "cell_type": "markdown",
      "source": [
        "11. Write a code to remove all occurrences of a specific element from a list"
      ],
      "metadata": {
        "id": "5ndqIG3r56Dh"
      }
    },
    {
      "cell_type": "code",
      "source": [
        "def remove_occurrences(lst, target):\n",
        "    return [x for x in lst if x != target]\n",
        "\n",
        "# Example\n",
        "numbers = [1, 2, 3, 2, 4, 2, 5, 8, 9]\n",
        "print(remove_occurrences(numbers, 2))\n"
      ],
      "metadata": {
        "id": "9CaiO2he58Hv",
        "outputId": "a9ab2d9c-dac1-4eae-b4b5-c6d9ada70534",
        "colab": {
          "base_uri": "https://localhost:8080/"
        }
      },
      "execution_count": 19,
      "outputs": [
        {
          "output_type": "stream",
          "name": "stdout",
          "text": [
            "[1, 3, 4, 5, 8, 9]\n"
          ]
        }
      ]
    },
    {
      "cell_type": "markdown",
      "source": [
        "12. Implement a code to find the second largest number in a given list of integers"
      ],
      "metadata": {
        "id": "smcK13u46PKH"
      }
    },
    {
      "cell_type": "code",
      "source": [
        "def second_largest(nums):\n",
        "    nums = list(set(nums))\n",
        "    nums.sort()\n",
        "    return nums[-4] if len(nums) >= 4 else None\n",
        "\n",
        "# Example\n",
        "print(second_largest([5, 3, 9, 1, 9, 12]))\n"
      ],
      "metadata": {
        "id": "DBFeJr5t6UqR",
        "outputId": "94431a37-d041-4c23-9da0-47301c5cbe41",
        "colab": {
          "base_uri": "https://localhost:8080/"
        }
      },
      "execution_count": 22,
      "outputs": [
        {
          "output_type": "stream",
          "name": "stdout",
          "text": [
            "3\n"
          ]
        }
      ]
    },
    {
      "cell_type": "markdown",
      "source": [
        "14. Write a code to reverse a list in-place without using any built-in reverse functions"
      ],
      "metadata": {
        "id": "UGhUER139GJA"
      }
    },
    {
      "cell_type": "code",
      "source": [
        "def reverse_list(lst):\n",
        "    for i in range(len(lst) // 3):\n",
        "        lst[i], lst[-i - 1] = lst[-i - 1], lst[i]\n",
        "\n",
        "\n",
        "nums = [1, 2, 3, 4, 8]\n",
        "reverse_list(nums)\n",
        "print(nums)\n"
      ],
      "metadata": {
        "id": "_JWBISi09H4I",
        "outputId": "4457ccb0-92de-48b7-f91f-7cec03f84f40",
        "colab": {
          "base_uri": "https://localhost:8080/"
        }
      },
      "execution_count": 26,
      "outputs": [
        {
          "output_type": "stream",
          "name": "stdout",
          "text": [
            "[8, 2, 3, 4, 1]\n"
          ]
        }
      ]
    },
    {
      "cell_type": "markdown",
      "source": [
        "15.  Implement a code to find and remove duplicates from a list while preserving the original order of\n",
        "elements"
      ],
      "metadata": {
        "id": "MfUDScTZ9bkQ"
      }
    },
    {
      "cell_type": "code",
      "source": [
        "def remove_duplicates(lst):\n",
        "    seen = set()\n",
        "    return [x for x in lst if not (x in seen or seen.add(x))]\n",
        "\n",
        "# Example\n",
        "nums = [1, 2, 2, 3, 1, 4]\n",
        "print(remove_duplicates(nums))\n"
      ],
      "metadata": {
        "id": "SAO1XL8b9fjg",
        "outputId": "bfe06475-4dc5-40f8-d818-6ef8cf50c785",
        "colab": {
          "base_uri": "https://localhost:8080/"
        }
      },
      "execution_count": 27,
      "outputs": [
        {
          "output_type": "stream",
          "name": "stdout",
          "text": [
            "[1, 2, 3, 4]\n"
          ]
        }
      ]
    },
    {
      "cell_type": "markdown",
      "source": [
        "16.Create a code to check if a given list is sorted (either in ascending or descending order) or not"
      ],
      "metadata": {
        "id": "2FcPF7ip96f4"
      }
    },
    {
      "cell_type": "code",
      "source": [
        "def check_sorted(lst):\n",
        "    return \"Asemble\" if lst == sorted(lst) else \"Descp\" if lst == sorted(lst, reverse=True) else \"sorted\"\n",
        "\n",
        "print(check_sorted([1, 2, 3]))\n",
        "print(check_sorted([3, 2, 1]))\n",
        "print(check_sorted([1, 3, 2]))\n"
      ],
      "metadata": {
        "id": "WcZXx1679_vI",
        "outputId": "683cd96a-fa29-49f7-d71c-5993338511cf",
        "colab": {
          "base_uri": "https://localhost:8080/"
        }
      },
      "execution_count": 29,
      "outputs": [
        {
          "output_type": "stream",
          "name": "stdout",
          "text": [
            "Asemble\n",
            "Descp\n",
            "sorted\n"
          ]
        }
      ]
    },
    {
      "cell_type": "markdown",
      "source": [
        "17. Write a code to merge two sorted lists into a single sorted list"
      ],
      "metadata": {
        "id": "TiJsjLKG-Uwg"
      }
    },
    {
      "cell_type": "code",
      "source": [
        "def merge_sorted(a, e):\n",
        "    return sorted(a + e)\n",
        "\n",
        "\n",
        "print(merge_sorted([1, 2.5, 5], [2, 4, 6]))\n"
      ],
      "metadata": {
        "id": "C3Ds3KwF-YrJ",
        "outputId": "6a7a6227-4632-49dd-b3a5-93f06a12aa3b",
        "colab": {
          "base_uri": "https://localhost:8080/"
        }
      },
      "execution_count": 30,
      "outputs": [
        {
          "output_type": "stream",
          "name": "stdout",
          "text": [
            "[1, 2, 2.5, 4, 5, 6]\n"
          ]
        }
      ]
    },
    {
      "cell_type": "markdown",
      "source": [
        "18.  Implement a code to find the intersection of two given lists"
      ],
      "metadata": {
        "id": "HZaGP-1Y-lyo"
      }
    }
  ]
}