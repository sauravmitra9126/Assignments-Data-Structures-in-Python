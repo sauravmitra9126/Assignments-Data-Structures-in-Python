{
  "nbformat": 4,
  "nbformat_minor": 0,
  "metadata": {
    "colab": {
      "provenance": [],
      "authorship_tag": "ABX9TyMbSme44RmJw0oUSSqC5YKd",
      "include_colab_link": true
    },
    "kernelspec": {
      "name": "python3",
      "display_name": "Python 3"
    },
    "language_info": {
      "name": "python"
    }
  },
  "cells": [
    {
      "cell_type": "markdown",
      "metadata": {
        "id": "view-in-github",
        "colab_type": "text"
      },
      "source": [
        "<a href=\"https://colab.research.google.com/github/sauravmitra9126/Assignments-Data-Structures-in-Python/blob/main/Assignments_Data_Structures_in_Python.ipynb\" target=\"_parent\"><img src=\"https://colab.research.google.com/assets/colab-badge.svg\" alt=\"Open In Colab\"/></a>"
      ]
    },
    {
      "cell_type": "code",
      "execution_count": null,
      "metadata": {
        "id": "1abe4bLIbCeZ"
      },
      "outputs": [],
      "source": []
    },
    {
      "cell_type": "markdown",
      "source": [
        "1. Write a code to reverse a string"
      ],
      "metadata": {
        "id": "bIzivI64c2kj"
      }
    },
    {
      "cell_type": "code",
      "source": [
        "txt = \"Hello World\" [:: -1]\n",
        "print(txt)"
      ],
      "metadata": {
        "id": "BvOPtEZ1c8QK",
        "outputId": "57203e78-8212-4452-8cab-7e5d1ae8ac80",
        "colab": {
          "base_uri": "https://localhost:8080/"
        }
      },
      "execution_count": 1,
      "outputs": [
        {
          "output_type": "stream",
          "name": "stdout",
          "text": [
            "dlroW olleH\n"
          ]
        }
      ]
    },
    {
      "cell_type": "markdown",
      "source": [
        "2. Write a code to count the number of vowels in a string"
      ],
      "metadata": {
        "id": "nuE6CkhzeMXx"
      }
    },
    {
      "cell_type": "markdown",
      "source": [],
      "metadata": {
        "id": "mLlnCnrLeEtA"
      }
    },
    {
      "cell_type": "code",
      "source": [
        "s = \"Python Pragrammimg\"\n",
        "vowels = {'a', 'e', 'i', 'o', 'u', 'A', 'E', 'I', 'O', 'U'}\n",
        "c = sum(1 for ch in s if ch in vowels)\n",
        "print(\"Number of vowels\" , c)"
      ],
      "metadata": {
        "id": "_h-tVKA8eBVw",
        "outputId": "2e793af1-75b3-47ee-bc9f-18c04a43721c",
        "colab": {
          "base_uri": "https://localhost:8080/"
        }
      },
      "execution_count": 3,
      "outputs": [
        {
          "output_type": "stream",
          "name": "stdout",
          "text": [
            "Number of vowels 4\n"
          ]
        }
      ]
    },
    {
      "cell_type": "markdown",
      "source": [],
      "metadata": {
        "id": "pnknEN2Kcxdp"
      }
    }
  ]
}