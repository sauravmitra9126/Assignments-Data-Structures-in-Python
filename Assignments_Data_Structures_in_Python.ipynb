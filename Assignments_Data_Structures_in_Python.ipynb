{
  "nbformat": 4,
  "nbformat_minor": 0,
  "metadata": {
    "colab": {
      "provenance": [],
      "authorship_tag": "ABX9TyNbnnxnzpcQzBwY0NABrLOl",
      "include_colab_link": true
    },
    "kernelspec": {
      "name": "python3",
      "display_name": "Python 3"
    },
    "language_info": {
      "name": "python"
    }
  },
  "cells": [
    {
      "cell_type": "markdown",
      "metadata": {
        "id": "view-in-github",
        "colab_type": "text"
      },
      "source": [
        "<a href=\"https://colab.research.google.com/github/sauravmitra9126/Assignments-Data-Structures-in-Python/blob/main/Assignments_Data_Structures_in_Python.ipynb\" target=\"_parent\"><img src=\"https://colab.research.google.com/assets/colab-badge.svg\" alt=\"Open In Colab\"/></a>"
      ]
    },
    {
      "cell_type": "code",
      "execution_count": null,
      "metadata": {
        "id": "1abe4bLIbCeZ"
      },
      "outputs": [],
      "source": []
    },
    {
      "cell_type": "markdown",
      "source": [
        "1. Write a code to reverse a string"
      ],
      "metadata": {
        "id": "bIzivI64c2kj"
      }
    },
    {
      "cell_type": "code",
      "source": [
        "txt = \"Hello World\" [:: -1]\n",
        "print(txt)"
      ],
      "metadata": {
        "colab": {
          "base_uri": "https://localhost:8080/"
        },
        "id": "BvOPtEZ1c8QK",
        "outputId": "57203e78-8212-4452-8cab-7e5d1ae8ac80"
      },
      "execution_count": null,
      "outputs": [
        {
          "output_type": "stream",
          "name": "stdout",
          "text": [
            "dlroW olleH\n"
          ]
        }
      ]
    },
    {
      "cell_type": "markdown",
      "source": [
        "2. Write a code to count the number of vowels in a string"
      ],
      "metadata": {
        "id": "nuE6CkhzeMXx"
      }
    },
    {
      "cell_type": "markdown",
      "source": [],
      "metadata": {
        "id": "mLlnCnrLeEtA"
      }
    },
    {
      "cell_type": "code",
      "source": [
        "s = \"Python Pragrammimg\"\n",
        "vowels = {'a', 'e', 'i', 'o', 'u', 'A', 'E', 'I', 'O', 'U'}\n",
        "c = sum(1 for ch in s if ch in vowels)\n",
        "print(\"Number of vowels\" , c)"
      ],
      "metadata": {
        "colab": {
          "base_uri": "https://localhost:8080/"
        },
        "id": "_h-tVKA8eBVw",
        "outputId": "2e793af1-75b3-47ee-bc9f-18c04a43721c"
      },
      "execution_count": null,
      "outputs": [
        {
          "output_type": "stream",
          "name": "stdout",
          "text": [
            "Number of vowels 4\n"
          ]
        }
      ]
    },
    {
      "cell_type": "markdown",
      "source": [
        "3. Write a code to check if a given string is a palindrome or not"
      ],
      "metadata": {
        "id": "Yxoqw_8ogCfp"
      }
    },
    {
      "cell_type": "markdown",
      "source": [],
      "metadata": {
        "id": "pnknEN2Kcxdp"
      }
    },
    {
      "cell_type": "code",
      "source": [],
      "metadata": {
        "id": "ABJjYG3GgI3Z"
      },
      "execution_count": null,
      "outputs": []
    },
    {
      "cell_type": "markdown",
      "source": [
        "4. Write a code to check if two given strings are anagrams of each other."
      ],
      "metadata": {
        "id": "24C98Yq1gQyw"
      }
    },
    {
      "cell_type": "code",
      "source": [
        "s1 = input(\"Enter first string:\")\n",
        "s2 = input(\"Enter second string:\")\n",
        "\n",
        "if sorted(s1) == sorted(s2):\n",
        "    print(\"The strings are anagrams.\")\n",
        "else:\n",
        "    print(\"The strings aren't anagrams.\")"
      ],
      "metadata": {
        "colab": {
          "base_uri": "https://localhost:8080/"
        },
        "id": "j5s9X2eZi2vA",
        "outputId": "a371a515-1dc0-4971-cb20-13005c5f5205"
      },
      "execution_count": null,
      "outputs": [
        {
          "output_type": "stream",
          "name": "stdout",
          "text": [
            "Enter first string:s1\n",
            "Enter second string:s2\n",
            "The strings aren't anagrams.\n"
          ]
        }
      ]
    },
    {
      "cell_type": "code",
      "source": [
        "s1 = input(\"Enter first string:\")\n",
        "s2 = input(\"Enter second string:\")\n",
        "\n",
        "if sorted(s1) == sorted(s2):\n",
        "    print(\"The strings are anagrams.\")\n",
        "else:\n",
        "    print(\"The strings aren't anagrams.\")"
      ],
      "metadata": {
        "colab": {
          "base_uri": "https://localhost:8080/"
        },
        "id": "3MXKC1fegX_Q",
        "outputId": "9bdece91-14bf-4d6d-c4de-479fa2b53c3f"
      },
      "execution_count": null,
      "outputs": [
        {
          "output_type": "stream",
          "name": "stdout",
          "text": [
            "Enter first string:s1\n",
            "Enter second string:s1\n",
            "The strings are anagrams.\n"
          ]
        }
      ]
    },
    {
      "cell_type": "markdown",
      "source": [
        "5. Write a code to find all occurrences of a given substring within another string"
      ],
      "metadata": {
        "id": "p99OYI0Uig2w"
      }
    },
    {
      "cell_type": "code",
      "source": [
        "def printIndex(str, s):\n",
        "\n",
        "    flag = False\n",
        "    for i in range(len(str)):\n",
        "        if (str[i:i + len(s)] == s):\n",
        "\n",
        "            print(i, end=\" \")\n",
        "            flag = True\n",
        "\n",
        "    if (flag == False):\n",
        "        print(\"NONE\")\n",
        "\n",
        "str1 = \"GeeksforGeeks\"\n",
        "str2 = \"Geeks\"\n",
        "printIndex(str1, str2)\n",
        "\n"
      ],
      "metadata": {
        "id": "aaDTy5BUimD-",
        "outputId": "1eccd789-425d-4fb4-8729-9227f3a999f3",
        "colab": {
          "base_uri": "https://localhost:8080/"
        }
      },
      "execution_count": 4,
      "outputs": [
        {
          "output_type": "stream",
          "name": "stdout",
          "text": [
            "0 8 "
          ]
        }
      ]
    }
  ]
}